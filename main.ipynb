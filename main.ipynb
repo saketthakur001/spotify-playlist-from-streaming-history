{
 "cells": [
  {
   "cell_type": "code",
   "execution_count": null,
   "id": "2df03e82",
   "metadata": {},
   "outputs": [],
   "source": [
    "import json\n",
    "import glob\n",
    "\n",
    "file_paths = glob.glob(\"/mnt/ShareDrive/shared/Spotify Extended Streaming History/Streaming_History_Audio_*.json\")\n",
    "\n",
    "all_streams = []\n",
    "for path in file_paths:\n",
    "    with open(path, 'r', encoding='utf-8') as f:\n",
    "        data = json.load(f)\n",
    "        all_streams.extend(data)\n"
   ]
  },
  {
   "cell_type": "code",
   "execution_count": null,
   "id": "61eea1b1",
   "metadata": {},
   "outputs": [
    {
     "name": "stdout",
     "output_type": "stream",
     "text": [
      "Loaded 159816 total plays.\n",
      "{'ts': '2021-08-14T20:18:26Z', 'username': 'rt47etgc6xpwhhhb8575rth83', 'platform': 'Android-tablet OS 11 API 30 (SAMSUNG, SM-T870)', 'ms_played': 185351, 'conn_country': 'IN', 'ip_addr_decrypted': '106.207.22.18', 'user_agent_decrypted': 'unknown', 'master_metadata_track_name': 'Cold Water', 'master_metadata_album_artist_name': 'Major Lazer', 'master_metadata_album_album_name': 'Major Lazer Essentials', 'spotify_track_uri': 'spotify:track:6xsGllAEwkmF4SSDwdpmMt', 'episode_name': None, 'episode_show_name': None, 'spotify_episode_uri': None, 'reason_start': 'trackdone', 'reason_end': 'trackdone', 'shuffle': False, 'skipped': None, 'offline': False, 'offline_timestamp': 1628972119379, 'incognito_mode': False}\n"
     ]
    }
   ],
   "source": [
    "print(f\"Loaded {len(all_streams)} total plays.\")\n",
    "print(all_streams[0])  "
   ]
  },
  {
   "cell_type": "code",
   "execution_count": null,
   "id": "6de52840",
   "metadata": {},
   "outputs": [
    {
     "name": "stdout",
     "output_type": "stream",
     "text": [
      "2021 — 1724 tracks\n",
      "['spotify:track:4RWzi7WNbW3H1Rr0aE9oPl', 'spotify:track:1Mfl0t1hvP1v6EJL1yIuWf', 'spotify:track:7rRMmhC027ixjjXzuZYoMv', 'spotify:track:47sGeWDJKLOGSsixHhYJZ8', 'spotify:track:6hFi0gXP8KItwMqfBgf44b']\n",
      "2023 — 1563 tracks\n",
      "['spotify:track:4LyO99BhEMAyVGe4J5genE', 'spotify:track:2BjRhZ2IJmsO1GRquNldsP', 'spotify:track:3zFy1R0QhiT3YMXTxV0KRd', 'spotify:track:0Hq2ZhF4uuDJheQBfsXU4p', 'spotify:track:5LLa7Xb6xfRVpRXgjyevvM']\n",
      "2022 — 1753 tracks\n",
      "['spotify:track:2t0wwvR15fc3K1ey8OiOaN', 'spotify:track:3nfosq8fXaM506M6L52kjI', 'spotify:track:2iLkTMUJ2MCsry5yYiafCg', 'spotify:track:2pAD0PKMUMtxlMvz33tYzB', 'spotify:track:3hRV0jL3vUpRrcy398teAU']\n",
      "2020 — 851 tracks\n",
      "['spotify:track:5q35GiekvBr6oAsCsW8YlR', 'spotify:track:44gRhRi2OhEf7moAUj6MD1', 'spotify:track:5rBtFEgasUy6eHRJcQ8Qlh', 'spotify:track:2B5ub9OB8rZj5PqvsAwrKo', 'spotify:track:09PGubKAMryhOWv1LHpCYz']\n",
      "2019 — 144 tracks\n",
      "['spotify:track:0V0bWil6rS8w4Xbn6eGwCQ', 'spotify:track:4TnjEaWOeW0eKTKIEvJyCa', 'spotify:track:3N304YQk9QuT4VY5ulXbuI', 'spotify:track:2W4yABdLc4Jnds67Poi5Nl', 'spotify:track:5mqzhMuUpvnMfwNz6iepmO']\n",
      "2024 — 849 tracks\n",
      "['spotify:track:5RxXxWhqkN3HpqYr6TkK1D', 'spotify:track:5fbQCQt91LsVgXusFS0CCD', 'spotify:track:3O3lwDEspRBoDN3xBge9Ri', 'spotify:track:77yGZRjuWfSzbDT0ROSSUG', 'spotify:track:3CpYYllIYfFqDJaK2Cp2Y6']\n"
     ]
    }
   ],
   "source": [
    "from collections import defaultdict\n",
    "from datetime import datetime\n",
    "import json\n",
    "import glob\n",
    "\n",
    "yearly_data = defaultdict(lambda: defaultdict(list))\n",
    "\n",
    "for stream in all_streams:\n",
    "    ts = stream.get(\"ts\")\n",
    "    uri = stream.get(\"spotify_track_uri\")\n",
    "    if ts and uri:\n",
    "        year = datetime.fromisoformat(ts.replace(\"Z\", \"\")).year\n",
    "        yearly_data[year][uri].append(ts)\n",
    "\n",
    "filtered_sorted_tracks_by_year = {}\n",
    "\n",
    "for year, track_dict in yearly_data.items():\n",
    "    filtered_tracks = {\n",
    "        uri: max(timestamps)\n",
    "        for uri, timestamps in track_dict.items()\n",
    "        if len(timestamps) >= 5\n",
    "    }\n",
    "    sorted_uris = sorted(filtered_tracks, key=filtered_tracks.get, reverse=True)\n",
    "    filtered_sorted_tracks_by_year[year] = sorted_uris\n",
    "\n",
    "for year, uris in filtered_sorted_tracks_by_year.items():\n",
    "    print(f\"{year} — {len(uris)} tracks\")\n",
    "    print(uris[:5])"
   ]
  },
  {
   "cell_type": "code",
   "execution_count": null,
   "id": "b18413cf",
   "metadata": {},
   "outputs": [],
   "source": [
    "import spotipy\n",
    "from spotipy.oauth2 import SpotifyOAuth\n",
    "\n",
    "sp = spotipy.Spotify(auth_manager=SpotifyOAuth(\n",
    "    client_id=\"YOUR_CLIENT_ID\",\n",
    "    client_secret=\"YOUR_CLIENT_SECRET\",\n",
    "    redirect_uri=\"http://localhost:8888/callback\",\n",
    "    scope=\"playlist-modify-public\"\n",
    "))\n",
    "\n",
    "user_id = sp.current_user()[\"id\"]\n",
    "\n",
    "for year, uris in filtered_sorted_tracks_by_year.items():\n",
    "    name = f\"Top Songs {year} (5+ Plays)\"\n",
    "    playlist = sp.user_playlist_create(user=user_id, name=name, public=True)\n",
    "    playlist_id = playlist['id']\n",
    "    \n",
    "    for i in range(0, len(uris), 100):\n",
    "        sp.playlist_add_items(playlist_id, uris[i:i+100])\n",
    "    print(f\"Created playlist: {name} with {len(uris)} tracks\")\n"
   ]
  },
  {
   "cell_type": "code",
   "execution_count": null,
   "id": "2224c234",
   "metadata": {},
   "outputs": [],
   "source": []
  }
 ],
 "metadata": {
  "kernelspec": {
   "display_name": "global",
   "language": "python",
   "name": "python3"
  },
  "language_info": {
   "codemirror_mode": {
    "name": "ipython",
    "version": 3
   },
   "file_extension": ".py",
   "mimetype": "text/x-python",
   "name": "python",
   "nbconvert_exporter": "python",
   "pygments_lexer": "ipython3",
   "version": "3.13.2"
  }
 },
 "nbformat": 4,
 "nbformat_minor": 5
}
